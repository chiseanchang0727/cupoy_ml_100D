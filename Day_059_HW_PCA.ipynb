{
 "cells": [
  {
   "cell_type": "markdown",
   "metadata": {},
   "source": [
    "# 作業\n",
    "### 用 digits (3個數字即可 , dataset.load_digits(n_class=3)) 資料嘗試跑 PCA\n"
   ]
  },
  {
   "cell_type": "code",
   "execution_count": 1,
   "metadata": {},
   "outputs": [],
   "source": [
    "from sklearn import datasets\n",
    "\n",
    "digits = datasets.load_digits(n_class=3)\n",
    "X = digits.data\n",
    "y = digits.target"
   ]
  },
  {
   "cell_type": "code",
   "execution_count": 24,
   "metadata": {},
   "outputs": [],
   "source": [
    "feature_names = digits.feature_names"
   ]
  },
  {
   "cell_type": "markdown",
   "metadata": {},
   "source": [
    "載入 相關套件 並 執行 PCA 實驗 ..."
   ]
  },
  {
   "cell_type": "code",
   "execution_count": 8,
   "metadata": {},
   "outputs": [],
   "source": [
    "import numpy as np\n",
    "from sklearn.decomposition import PCA\n",
    "from sklearn import datasets\n",
    "\n",
    "import matplotlib.pyplot as plt\n",
    "from mpl_toolkits.mplot3d import Axes3D"
   ]
  },
  {
   "cell_type": "code",
   "execution_count": 18,
   "metadata": {},
   "outputs": [
    {
     "name": "stdout",
     "output_type": "stream",
     "text": [
      "features before PCA: 64\n"
     ]
    },
    {
     "data": {
      "text/plain": [
       "(537, 64)"
      ]
     },
     "execution_count": 18,
     "metadata": {},
     "output_type": "execute_result"
    }
   ],
   "source": [
    "print(f'features before PCA: {X.shape[1]}')"
   ]
  },
  {
   "cell_type": "code",
   "execution_count": 9,
   "metadata": {},
   "outputs": [],
   "source": [
    "pca = PCA().fit(X)"
   ]
  },
  {
   "cell_type": "code",
   "execution_count": 19,
   "metadata": {},
   "outputs": [
    {
     "name": "stdout",
     "output_type": "stream",
     "text": [
      "features after PCA: 14\n"
     ]
    }
   ],
   "source": [
    "explained_variances = pca.explained_variance_ratio_\n",
    "cumulative_variance = np.cumsum(explained_variances)\n",
    "n_components = np.argmax(cumulative_variance >= 0.9) + 1\n",
    "print(\"features after PCA:\", n_components)"
   ]
  },
  {
   "cell_type": "code",
   "execution_count": 25,
   "metadata": {},
   "outputs": [
    {
     "name": "stdout",
     "output_type": "stream",
     "text": [
      "Top 3 features for the first principal component: ['pixel_5_5', 'pixel_2_5', 'pixel_3_2']\n"
     ]
    }
   ],
   "source": [
    "components = pca.components_\n",
    "components\n",
    "n_top_features = 3\n",
    "top_feature_indices = components[0].argsort()[::-1][:n_top_features]\n",
    "top_features = [feature_names[i] for i in top_feature_indices]\n",
    "print(\"Top\", n_top_features, \"features for the first principal component:\", top_features)"
   ]
  },
  {
   "attachments": {},
   "cell_type": "markdown",
   "metadata": {},
   "source": [
    "- The features is reduced from 64 to 14 after PCA\n",
    "- The top 3 features that contribute the most are: pixel_5_5, pixel_2_5, pixel_3_2"
   ]
  }
 ],
 "metadata": {
  "kernelspec": {
   "display_name": "Python 3",
   "language": "python",
   "name": "python3"
  },
  "language_info": {
   "codemirror_mode": {
    "name": "ipython",
    "version": 3
   },
   "file_extension": ".py",
   "mimetype": "text/x-python",
   "name": "python",
   "nbconvert_exporter": "python",
   "pygments_lexer": "ipython3",
   "version": "3.8.8"
  }
 },
 "nbformat": 4,
 "nbformat_minor": 2
}
