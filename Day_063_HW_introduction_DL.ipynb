{
 "cells": [
  {
   "cell_type": "markdown",
   "metadata": {},
   "source": [
    "# 作業\n",
    "* 在精簡深度學習的方式上 : 卷積類神經 (CNN) 採用像素遠近，而遞歸類神經 (RNN) 採用著則是時間遠近\n",
    "* 那麼，既然有著類似的設計精神，兩者是否有可能互換應用呢?"
   ]
  },
  {
   "attachments": {},
   "cell_type": "markdown",
   "metadata": {},
   "source": [
    "CNN主要處理的問題(圖像)屬於2維，而RNN主要處理的是時間訊列問題屬於1維，雖然主要focus的維度不同但有互換應用的可能\n",
    "\n",
    "- CNN in 1D\n",
    "1維的CNN叫1維卷積(1d-CNN)，當然1d-CNN就不適合去做2維的問題(如圖像辨識)\n",
    "常與進階版的RNN-長短期記憶網路(LSTM)搭配使用，用來預測股市等時序性問題\n",
    "\n",
    "- RNN in image recognization\n",
    "\n",
    "若image在某個軸有連續性的現象，則RNN也可以處理這類較狹義的圖像問題"
   ]
  }
 ],
 "metadata": {
  "kernelspec": {
   "display_name": "Python 3",
   "language": "python",
   "name": "python3"
  },
  "language_info": {
   "codemirror_mode": {
    "name": "ipython",
    "version": 3
   },
   "file_extension": ".py",
   "mimetype": "text/x-python",
   "name": "python",
   "nbconvert_exporter": "python",
   "pygments_lexer": "ipython3",
   "version": "3.6.1"
  }
 },
 "nbformat": 4,
 "nbformat_minor": 2
}
