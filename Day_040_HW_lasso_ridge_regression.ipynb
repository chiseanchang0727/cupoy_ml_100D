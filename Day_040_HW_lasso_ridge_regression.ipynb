{
 "cells": [
  {
   "cell_type": "markdown",
   "metadata": {},
   "source": [
    "## [作業重點]\n",
    "使用 Sklearn 中的 Lasso, Ridge 模型，來訓練各種資料集，務必了解送進去模型訓練的**資料型態**為何，也請了解模型中各項參數的意義。\n",
    "\n",
    "機器學習的模型非常多種，但要訓練的資料多半有固定的格式，確保你了解訓練資料的格式為何，這樣在應用新模型時，就能夠最快的上手開始訓練！"
   ]
  },
  {
   "cell_type": "markdown",
   "metadata": {},
   "source": [
    "## 練習時間\n",
    "試著使用 sklearn datasets 的其他資料集 (boston, ...)，來訓練自己的線性迴歸模型，並加上適當的正則化來觀察訓練情形。"
   ]
  },
  {
   "cell_type": "code",
   "execution_count": 10,
   "metadata": {},
   "outputs": [],
   "source": [
    "import numpy as np \n",
    "import pandas as pd\n",
    "import matplotlib.pyplot as plt\n",
    "from sklearn import datasets, linear_model\n",
    "from sklearn.linear_model import Lasso, Ridge\n",
    "from sklearn.model_selection import train_test_split\n",
    "from sklearn.metrics import mean_squared_error"
   ]
  },
  {
   "attachments": {},
   "cell_type": "markdown",
   "metadata": {},
   "source": [
    "### Import the 'Boston' datatset (house price in Boston)"
   ]
  },
  {
   "attachments": {},
   "cell_type": "markdown",
   "metadata": {},
   "source": [
    "#### Split the raw data into features(df) and target"
   ]
  },
  {
   "cell_type": "code",
   "execution_count": 2,
   "metadata": {},
   "outputs": [],
   "source": [
    "data_url = \"http://lib.stat.cmu.edu/datasets/boston\"\n",
    "raw_df = pd.read_csv(data_url, sep=\"\\s+\", skiprows=22, header=None)\n",
    "#features in df\n",
    "df = pd.DataFrame(np.hstack([raw_df.values[::2, :], raw_df.values[1::2, :2]]))\n",
    "target = pd.DataFrame(raw_df.values[1::2, 2])"
   ]
  },
  {
   "attachments": {},
   "cell_type": "markdown",
   "metadata": {},
   "source": [
    "Variables in order:  \n",
    " CRIM : per capita crime rate by town  \n",
    " ZN : proportion of residential land zoned for lots over 25,000 sq.ft.  \n",
    " INDUS    :proportion of non-retail business acres per town  \n",
    " CHAS     :Charles River dummy variable (= 1 if tract bounds river; 0 otherwise)  \n",
    " NOX      :nitric oxides concentration (parts per 10 million)  \n",
    " RM       :average number of rooms per dwelling  \n",
    " AGE      :proportion of owner-occupied units built prior to 1940  \n",
    " DIS      :weighted distances to five Boston employment centres  \n",
    " RAD      :index of accessibility to radial highways  \n",
    " TAX      :full-value property-tax rate per $10,000  \n",
    " PTRATIO  :pupil-teacher ratio by town  \n",
    " B        :1000(Bk - 0.63)^2 where Bk is the proportion of blacks by town  \n",
    " LSTAT    :% lower status of the population  \n",
    " MEDV     :Median value of owner-occupied homes in $1000's  \n",
    "\n",
    "\n",
    " MEDV is target"
   ]
  },
  {
   "attachments": {},
   "cell_type": "markdown",
   "metadata": {},
   "source": [
    "#### Set the column name"
   ]
  },
  {
   "cell_type": "code",
   "execution_count": 3,
   "metadata": {},
   "outputs": [],
   "source": [
    "df.columns = ['CRIM', 'ZN', 'INDUS', 'CHAS', 'NOX', 'RM', 'AGE', 'DIS', 'RAD',\n",
    "        'TAX', 'PTRATIO', 'B', 'LSTAT']\n",
    "\n",
    "target.columns = ['MEDV']"
   ]
  },
  {
   "attachments": {},
   "cell_type": "markdown",
   "metadata": {},
   "source": [
    "### Build a model to predict the house price(MEDV)"
   ]
  },
  {
   "attachments": {},
   "cell_type": "markdown",
   "metadata": {},
   "source": [
    "1. for simplification, I use 'CRIM' only\n",
    "2. By definition, 'CRIM' is numerical, so I am going to build a Linear Regression model"
   ]
  },
  {
   "attachments": {},
   "cell_type": "markdown",
   "metadata": {},
   "source": [
    "#### Regular Linear Regression"
   ]
  },
  {
   "cell_type": "code",
   "execution_count": 11,
   "metadata": {},
   "outputs": [
    {
     "name": "stdout",
     "output_type": "stream",
     "text": [
      "Coefficients:  [[-0.45237872]]\n",
      "Mean squared error: 78.87\n"
     ]
    }
   ],
   "source": [
    "crim = df[['CRIM']]\n",
    "\n",
    "# separate the data into train and test\n",
    "x_train, x_test, y_train, y_test = train_test_split(crim, target, test_size = 0.2, random_state=6)\n",
    "\n",
    "# new a Linear Regression model\n",
    "regr = linear_model.LinearRegression()\n",
    "\n",
    "# train the model with training data\n",
    "regr.fit(x_train, y_train)\n",
    "\n",
    "# test the predicition with testing data\n",
    "y_pred = regr.predict(x_test)\n",
    "\n",
    "print('Coefficients: ', regr.coef_)\n",
    "\n",
    "print('Mean squared error: %.2f' % mean_squared_error(y_test, y_pred))"
   ]
  },
  {
   "attachments": {},
   "cell_type": "markdown",
   "metadata": {},
   "source": [
    "#### LASSO"
   ]
  },
  {
   "cell_type": "code",
   "execution_count": 21,
   "metadata": {},
   "outputs": [
    {
     "name": "stdout",
     "output_type": "stream",
     "text": [
      "Coefficients:  [-0.43745057]\n",
      "Mean squared error: 78.49\n"
     ]
    }
   ],
   "source": [
    "crim = df[['CRIM']]\n",
    "\n",
    "# separate the data into train and test\n",
    "x_train, x_test, y_train, y_test = train_test_split(crim, target, test_size = 0.2, random_state=6)\n",
    "\n",
    "# new a Linear Regression model\n",
    "regr = Lasso(alpha=1)\n",
    "\n",
    "# train the model with training data\n",
    "regr.fit(x_train, y_train)\n",
    "\n",
    "# test the predicition with testing data\n",
    "y_pred = regr.predict(x_test)\n",
    "\n",
    "print('Coefficients: ', regr.coef_)\n",
    "\n",
    "print('Mean squared error: %.2f' % mean_squared_error(y_test, y_pred))"
   ]
  },
  {
   "attachments": {},
   "cell_type": "markdown",
   "metadata": {},
   "source": [
    "#### Ridge"
   ]
  },
  {
   "cell_type": "code",
   "execution_count": 20,
   "metadata": {},
   "outputs": [
    {
     "name": "stdout",
     "output_type": "stream",
     "text": [
      "Coefficients:  [[-0.4507133]]\n",
      "Mean squared error: 78.83\n"
     ]
    }
   ],
   "source": [
    "crim = df[['CRIM']]\n",
    "\n",
    "# separate the data into train and test\n",
    "x_train, x_test, y_train, y_test = train_test_split(crim, target, test_size = 0.2, random_state=6)\n",
    "\n",
    "# new a Linear Regression model\n",
    "regr = Ridge(alpha=100)\n",
    "\n",
    "# train the model with training data\n",
    "regr.fit(x_train, y_train)\n",
    "\n",
    "# test the predicition with testing data\n",
    "y_pred = regr.predict(x_test)\n",
    "\n",
    "print('Coefficients: ', regr.coef_)\n",
    "\n",
    "print('Mean squared error: %.2f' % mean_squared_error(y_test, y_pred))"
   ]
  },
  {
   "attachments": {},
   "cell_type": "markdown",
   "metadata": {},
   "source": [
    "As we can see, the MSE of LASSO and Ridge is lower than regular Linear Regression model"
   ]
  }
 ],
 "metadata": {
  "kernelspec": {
   "display_name": "base",
   "language": "python",
   "name": "python3"
  },
  "language_info": {
   "codemirror_mode": {
    "name": "ipython",
    "version": 3
   },
   "file_extension": ".py",
   "mimetype": "text/x-python",
   "name": "python",
   "nbconvert_exporter": "python",
   "pygments_lexer": "ipython3",
   "version": "3.8.8"
  },
  "vscode": {
   "interpreter": {
    "hash": "e9261e4b8d81df69c83e35cc6f2e40b148a17ff965934ea230e7854a5f0ec50d"
   }
  }
 },
 "nbformat": 4,
 "nbformat_minor": 2
}
