{
 "cells": [
  {
   "cell_type": "markdown",
   "metadata": {},
   "source": [
    "## [作業重點]\n",
    "確保你了解隨機森林模型中每個超參數的意義，並觀察調整超參數對結果的影響"
   ]
  },
  {
   "cell_type": "markdown",
   "metadata": {},
   "source": [
    "## 作業\n",
    "\n",
    "1. 試著調整 RandomForestClassifier(...) 中的參數，並觀察是否會改變結果？\n",
    "2. 改用其他資料集 (boston, wine)，並與回歸模型與決策樹的結果進行比較"
   ]
  },
  {
   "attachments": {},
   "cell_type": "markdown",
   "metadata": {},
   "source": [
    "### 作業1"
   ]
  },
  {
   "cell_type": "code",
   "execution_count": 15,
   "metadata": {},
   "outputs": [],
   "source": [
    "from sklearn import datasets, metrics\n",
    "from sklearn.ensemble import RandomForestClassifier\n",
    "from sklearn.model_selection import train_test_split\n",
    "import pandas as pd\n",
    "import numpy as np\n",
    "from sklearn.metrics import accuracy_score"
   ]
  },
  {
   "cell_type": "code",
   "execution_count": 16,
   "metadata": {},
   "outputs": [],
   "source": [
    "wine = datasets.load_wine()\n",
    "df_wine = pd.DataFrame(wine.data, columns=wine.feature_names)\n",
    "target_wine = pd.DataFrame(wine.target, columns=['Target'])"
   ]
  },
  {
   "cell_type": "code",
   "execution_count": 54,
   "metadata": {},
   "outputs": [
    {
     "name": "stderr",
     "output_type": "stream",
     "text": [
      "<ipython-input-54-1caf1866b4e6>:12: DataConversionWarning: A column-vector y was passed when a 1d array was expected. Please change the shape of y to (n_samples,), for example using ravel().\n",
      "  rfc_1.fit(x_train, y_train)\n",
      "<ipython-input-54-1caf1866b4e6>:13: DataConversionWarning: A column-vector y was passed when a 1d array was expected. Please change the shape of y to (n_samples,), for example using ravel().\n",
      "  rfc_2.fit(x_train, y_train)\n",
      "<ipython-input-54-1caf1866b4e6>:14: DataConversionWarning: A column-vector y was passed when a 1d array was expected. Please change the shape of y to (n_samples,), for example using ravel().\n",
      "  rfc_3.fit(x_train, y_train)\n",
      "<ipython-input-54-1caf1866b4e6>:15: DataConversionWarning: A column-vector y was passed when a 1d array was expected. Please change the shape of y to (n_samples,), for example using ravel().\n",
      "  rfc_4.fit(x_train, y_train)\n"
     ]
    }
   ],
   "source": [
    "# separate the data into train and test\n",
    "x_train, x_test, y_train, y_test = train_test_split(df_wine, target_wine, test_size=0.3,  random_state=100)\n",
    "\n",
    "\n",
    "# new a series Random Forest Classifier to compare the performance under different hyperparameters\n",
    "rfc_1 = RandomForestClassifier(n_estimators=10, random_state=15)\n",
    "rfc_2 = RandomForestClassifier(n_estimators=10, max_depth=6, random_state=15)\n",
    "rfc_3 = RandomForestClassifier(n_estimators=10, min_samples_split=5, random_state=15)\n",
    "rfc_4 = RandomForestClassifier(n_estimators=10, min_samples_leaf=4, random_state=15)\n",
    "\n",
    "# train model\n",
    "rfc_1.fit(x_train, y_train)\n",
    "rfc_2.fit(x_train, y_train)\n",
    "rfc_3.fit(x_train, y_train)\n",
    "rfc_4.fit(x_train, y_train)\n",
    "\n",
    "# predict\n",
    "y_pred_1 = rfc_1.predict(x_test)\n",
    "y_pred_2 = rfc_2.predict(x_test)\n",
    "y_pred_3 = rfc_3.predict(x_test)\n",
    "y_pred_4 = rfc_4.predict(x_test)\n"
   ]
  },
  {
   "cell_type": "code",
   "execution_count": 55,
   "metadata": {},
   "outputs": [
    {
     "name": "stdout",
     "output_type": "stream",
     "text": [
      "model 1 accuracy score 0.96 \n",
      "model 2 accuracy score 0.96 \n",
      "model 3 accuracy score 0.94 \n",
      "model 4 accuracy score 0.96 \n"
     ]
    }
   ],
   "source": [
    "# evaluate the performance by accuracy score\n",
    "print('model 1 accuracy score %.2f ' % accuracy_score(y_test,y_pred_1))\n",
    "print('model 2 accuracy score %.2f ' % accuracy_score(y_test,y_pred_2))\n",
    "print('model 3 accuracy score %.2f ' % accuracy_score(y_test,y_pred_3))\n",
    "print('model 4 accuracy score %.2f ' % accuracy_score(y_test,y_pred_4))"
   ]
  },
  {
   "attachments": {},
   "cell_type": "markdown",
   "metadata": {},
   "source": [
    "### 作業2"
   ]
  },
  {
   "cell_type": "code",
   "execution_count": 24,
   "metadata": {},
   "outputs": [],
   "source": [
    "import numpy as np \n",
    "import pandas as pd\n",
    "import matplotlib.pyplot as plt\n",
    "from sklearn import datasets, metrics\n",
    "from sklearn.ensemble import RandomForestRegressor\n",
    "from sklearn.model_selection import train_test_split\n",
    "from sklearn.metrics import mean_squared_error\n",
    "\n",
    "data_url = \"http://lib.stat.cmu.edu/datasets/boston\"\n",
    "raw_df = pd.read_csv(data_url, sep=\"\\s+\", skiprows=22, header=None)\n",
    "#features in df\n",
    "df_boston = pd.DataFrame(np.hstack([raw_df.values[::2, :], raw_df.values[1::2, :2]]))\n",
    "target_boston = pd.DataFrame(raw_df.values[1::2, 2])\n",
    "\n",
    "df_boston.columns = ['CRIM', 'ZN', 'INDUS', 'CHAS', 'NOX', 'RM', 'AGE', 'DIS', 'RAD',\n",
    "        'TAX', 'PTRATIO', 'B', 'LSTAT']\n",
    "\n",
    "target_boston.columns = ['MEDV']"
   ]
  },
  {
   "cell_type": "code",
   "execution_count": 25,
   "metadata": {},
   "outputs": [
    {
     "name": "stderr",
     "output_type": "stream",
     "text": [
      "<ipython-input-25-d0197ec1032f>:8: DataConversionWarning: A column-vector y was passed when a 1d array was expected. Please change the shape of y to (n_samples,), for example using ravel().\n",
      "  rfr.fit(x_train, y_train)\n"
     ]
    }
   ],
   "source": [
    "# separate the data into train and test\n",
    "x_train, x_test, y_train, y_test = train_test_split(df_boston, target_boston, test_size = 0.2, random_state=6)\n",
    "\n",
    "# new a Random Forest Regressor\n",
    "rfr = RandomForestRegressor(random_state=6)\n",
    "\n",
    "# train the model with training data\n",
    "rfr.fit(x_train, y_train)\n",
    "\n",
    "# test the predicition with testing data\n",
    "y_pred = rfr.predict(x_test)\n",
    "\n"
   ]
  },
  {
   "cell_type": "code",
   "execution_count": 26,
   "metadata": {},
   "outputs": [
    {
     "name": "stdout",
     "output_type": "stream",
     "text": [
      "Accurarcy: 11.99658627450982\n"
     ]
    }
   ],
   "source": [
    "#evaluate the performance by MSE\n",
    "mse =mean_squared_error(y_test, y_pred)\n",
    "print(f'Accurarcy: {mse}')"
   ]
  },
  {
   "attachments": {},
   "cell_type": "markdown",
   "metadata": {},
   "source": [
    "### Compare with Linear Regression model"
   ]
  },
  {
   "cell_type": "code",
   "execution_count": 27,
   "metadata": {},
   "outputs": [
    {
     "name": "stdout",
     "output_type": "stream",
     "text": [
      "Mean squared error: 0.00\n"
     ]
    }
   ],
   "source": [
    "from sklearn import linear_model\n",
    "from sklearn.linear_model import LinearRegression\n",
    "\n",
    "# separate the data into train and test\n",
    "x_train, x_test, y_train, y_test = train_test_split(df, target, test_size = 0.2, random_state=6)\n",
    "\n",
    "# new a Linear Regression model\n",
    "regr = linear_model.LinearRegression()\n",
    "\n",
    "# train the model with training data\n",
    "regr.fit(x_train, y_train)\n",
    "\n",
    "# test the predicition with testing data\n",
    "y_pred = regr.predict(x_test)\n",
    "\n",
    "print('Mean squared error: %.2f' % mean_squared_error(y_test, y_pred))"
   ]
  },
  {
   "attachments": {},
   "cell_type": "markdown",
   "metadata": {},
   "source": [
    "## Conclusion"
   ]
  },
  {
   "attachments": {},
   "cell_type": "markdown",
   "metadata": {},
   "source": [
    "1. The MSE of Random Forest model is 12.031 which is **smaller** than the MSE of Linear Regression model, 27.22\n",
    "2. In this case, the performance of Random Forest is better than Linear Regression"
   ]
  },
  {
   "attachments": {},
   "cell_type": "markdown",
   "metadata": {},
   "source": [
    "#### The feature importance of Random Forest"
   ]
  },
  {
   "cell_type": "code",
   "execution_count": 28,
   "metadata": {},
   "outputs": [
    {
     "name": "stdout",
     "output_type": "stream",
     "text": [
      "feature : CRIM, importance : 0.032293701202518205\n",
      "feature : ZN, importance : 0.00135453539053886\n",
      "feature : INDUS, importance : 0.006732358265709908\n",
      "feature : CHAS, importance : 0.0010114089395059844\n",
      "feature : NOX, importance : 0.019361938630405626\n",
      "feature : RM, importance : 0.47238391859993406\n",
      "feature : AGE, importance : 0.01924730412737478\n",
      "feature : DIS, importance : 0.05919945987323149\n",
      "feature : RAD, importance : 0.003981066130991942\n",
      "feature : TAX, importance : 0.01790498585620725\n",
      "feature : PTRATIO, importance : 0.013644990716092913\n",
      "feature : B, importance : 0.01233622218993031\n",
      "feature : LSTAT, importance : 0.34054811007755864\n"
     ]
    }
   ],
   "source": [
    "for feat, importance in zip(rfr.feature_names_in_, rfr.feature_importances_):\n",
    "    print(f'feature : {feat}, importance : {importance}')"
   ]
  },
  {
   "cell_type": "code",
   "execution_count": 29,
   "metadata": {},
   "outputs": [],
   "source": [
    "feature_array = rfr.feature_importances_\n",
    "indices = np.argsort(feature_array)"
   ]
  },
  {
   "cell_type": "code",
   "execution_count": 30,
   "metadata": {},
   "outputs": [
    {
     "data": {
      "image/png": "[encoded data removed]",
      "text/plain": [
       "<Figure size 432x288 with 1 Axes>"
      ]
     },
     "metadata": {
      "needs_background": "light"
     },
     "output_type": "display_data"
    }
   ],
   "source": [
    "fig, ax = plt.subplots()\n",
    "ax.barh(range(len(feature_array)), feature_array[indices])\n",
    "ax.set_yticks(range(len(feature_array)))\n",
    "_ = ax.set_yticklabels(np.array(x_train.columns)[indices])"
   ]
  }
 ],
 "metadata": {
  "kernelspec": {
   "display_name": "base",
   "language": "python",
   "name": "python3"
  },
  "language_info": {
   "codemirror_mode": {
    "name": "ipython",
    "version": 3
   },
   "file_extension": ".py",
   "mimetype": "text/x-python",
   "name": "python",
   "nbconvert_exporter": "python",
   "pygments_lexer": "ipython3",
   "version": "3.8.8"
  },
  "vscode": {
   "interpreter": {
    "hash": "e9261e4b8d81df69c83e35cc6f2e40b148a17ff965934ea230e7854a5f0ec50d"
   }
  }
 },
 "nbformat": 4,
 "nbformat_minor": 2
}
