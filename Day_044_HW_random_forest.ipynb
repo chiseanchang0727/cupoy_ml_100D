{
 "cells": [
  {
   "cell_type": "markdown",
   "metadata": {},
   "source": [
    "## [作業重點]\n",
    "確保你了解隨機森林模型中每個超參數的意義，並觀察調整超參數對結果的影響"
   ]
  },
  {
   "cell_type": "markdown",
   "metadata": {},
   "source": [
    "## 作業\n",
    "\n",
    "1. 試著調整 RandomForestClassifier(...) 中的參數，並觀察是否會改變結果？\n",
    "2. 改用其他資料集 (boston, wine)，並與回歸模型與決策樹的結果進行比較"
   ]
  },
  {
   "attachments": {},
   "cell_type": "markdown",
   "metadata": {},
   "source": [
    "### 作業1"
   ]
  },
  {
   "cell_type": "code",
   "execution_count": 60,
   "metadata": {},
   "outputs": [],
   "source": [
    "from sklearn import datasets, metrics\n",
    "from sklearn.ensemble import RandomForestClassifier\n",
    "from sklearn.model_selection import train_test_split\n",
    "import pandas as pd\n",
    "import numpy as np\n",
    "from sklearn.metrics import accuracy_score\n",
    "import warnings\n",
    "warnings.filterwarnings('ignore')"
   ]
  },
  {
   "cell_type": "code",
   "execution_count": 61,
   "metadata": {},
   "outputs": [],
   "source": [
    "wine = datasets.load_wine()\n",
    "df_wine = pd.DataFrame(wine.data, columns=wine.feature_names)\n",
    "target_wine = pd.DataFrame(wine.target, columns=['Target'])"
   ]
  },
  {
   "cell_type": "code",
   "execution_count": 62,
   "metadata": {},
   "outputs": [],
   "source": [
    "# separate the data into train and test\n",
    "x_train, x_test, y_train, y_test = train_test_split(df_wine, target_wine, test_size=0.3,  random_state=100)\n",
    "\n",
    "\n",
    "# new a series Random Forest Classifier to compare the performance under different hyperparameters\n",
    "rfc_1 = RandomForestClassifier(n_estimators=10, random_state=15)\n",
    "rfc_2 = RandomForestClassifier(n_estimators=10, max_depth=6, random_state=15)\n",
    "rfc_3 = RandomForestClassifier(n_estimators=10, min_samples_split=5, random_state=15)\n",
    "rfc_4 = RandomForestClassifier(n_estimators=10, min_samples_leaf=4, random_state=15)\n",
    "\n",
    "# train model\n",
    "rfc_1.fit(x_train, y_train)\n",
    "rfc_2.fit(x_train, y_train)\n",
    "rfc_3.fit(x_train, y_train)\n",
    "rfc_4.fit(x_train, y_train)\n",
    "\n",
    "# predict\n",
    "y_pred_1 = rfc_1.predict(x_test)\n",
    "y_pred_2 = rfc_2.predict(x_test)\n",
    "y_pred_3 = rfc_3.predict(x_test)\n",
    "y_pred_4 = rfc_4.predict(x_test)\n"
   ]
  },
  {
   "cell_type": "code",
   "execution_count": 63,
   "metadata": {},
   "outputs": [
    {
     "name": "stdout",
     "output_type": "stream",
     "text": [
      "model 1 accuracy score 0.96 \n",
      "model 2 accuracy score 0.96 \n",
      "model 3 accuracy score 0.94 \n",
      "model 4 accuracy score 0.96 \n"
     ]
    }
   ],
   "source": [
    "# evaluate the performance by accuracy score\n",
    "print('model 1 accuracy score %.2f ' % accuracy_score(y_test,y_pred_1))\n",
    "print('model 2 accuracy score %.2f ' % accuracy_score(y_test,y_pred_2))\n",
    "print('model 3 accuracy score %.2f ' % accuracy_score(y_test,y_pred_3))\n",
    "print('model 4 accuracy score %.2f ' % accuracy_score(y_test,y_pred_4))"
   ]
  },
  {
   "attachments": {},
   "cell_type": "markdown",
   "metadata": {},
   "source": [
    "### 作業2"
   ]
  },
  {
   "cell_type": "code",
   "execution_count": 64,
   "metadata": {},
   "outputs": [],
   "source": [
    "import numpy as np \n",
    "import pandas as pd\n",
    "import matplotlib.pyplot as plt\n",
    "from sklearn import datasets, metrics\n",
    "from sklearn.ensemble import RandomForestRegressor\n",
    "from sklearn.model_selection import train_test_split\n",
    "from sklearn.metrics import mean_squared_error\n",
    "\n",
    "data_url = \"http://lib.stat.cmu.edu/datasets/boston\"\n",
    "raw_df = pd.read_csv(data_url, sep=\"\\s+\", skiprows=22, header=None)\n",
    "#features in df\n",
    "df_boston = pd.DataFrame(np.hstack([raw_df.values[::2, :], raw_df.values[1::2, :2]]))\n",
    "target_boston = pd.DataFrame(raw_df.values[1::2, 2])\n",
    "\n",
    "df_boston.columns = ['CRIM', 'ZN', 'INDUS', 'CHAS', 'NOX', 'RM', 'AGE', 'DIS', 'RAD',\n",
    "        'TAX', 'PTRATIO', 'B', 'LSTAT']\n",
    "\n",
    "target_boston.columns = ['MEDV']"
   ]
  },
  {
   "cell_type": "code",
   "execution_count": 65,
   "metadata": {},
   "outputs": [],
   "source": [
    "# separate the data into train and test\n",
    "x_train, x_test, y_train, y_test = train_test_split(df_boston, target_boston, test_size = 0.2, random_state=6)\n",
    "\n",
    "# new a Random Forest Regressor\n",
    "rfr = RandomForestRegressor(random_state=6)\n",
    "\n",
    "# train the model with training data\n",
    "rfr.fit(x_train, y_train)\n",
    "\n",
    "# test the predicition with testing data\n",
    "y_pred = rfr.predict(x_test)\n",
    "\n"
   ]
  },
  {
   "cell_type": "code",
   "execution_count": 66,
   "metadata": {},
   "outputs": [
    {
     "name": "stdout",
     "output_type": "stream",
     "text": [
      "Accurarcy: 12.971544509803925\n"
     ]
    }
   ],
   "source": [
    "#evaluate the performance by MSE\n",
    "mse =mean_squared_error(y_test, y_pred)\n",
    "print(f'Accurarcy: {mse}')"
   ]
  },
  {
   "attachments": {},
   "cell_type": "markdown",
   "metadata": {},
   "source": [
    "### Compare with Linear Regression model"
   ]
  },
  {
   "cell_type": "code",
   "execution_count": 68,
   "metadata": {},
   "outputs": [
    {
     "name": "stdout",
     "output_type": "stream",
     "text": [
      "Mean squared error: 27.22\n"
     ]
    }
   ],
   "source": [
    "from sklearn import linear_model\n",
    "from sklearn.linear_model import LinearRegression\n",
    "\n",
    "# separate the data into train and test\n",
    "x_train, x_test, y_train, y_test = train_test_split(df_boston, target_boston, test_size = 0.2, random_state=6)\n",
    "\n",
    "# new a Linear Regression model\n",
    "regr = linear_model.LinearRegression()\n",
    "\n",
    "# train the model with training data\n",
    "regr.fit(x_train, y_train)\n",
    "\n",
    "# test the predicition with testing data\n",
    "y_pred = regr.predict(x_test)\n",
    "\n",
    "print('Mean squared error: %.2f' % mean_squared_error(y_test, y_pred))"
   ]
  },
  {
   "attachments": {},
   "cell_type": "markdown",
   "metadata": {},
   "source": [
    "## Conclusion"
   ]
  },
  {
   "attachments": {},
   "cell_type": "markdown",
   "metadata": {},
   "source": [
    "1. The MSE of Random Forest model is **smaller** than the MSE of Linear Regression model\n",
    "2. In this case, the performance of Random Forest is better than Linear Regression"
   ]
  },
  {
   "attachments": {},
   "cell_type": "markdown",
   "metadata": {},
   "source": [
    "#### The feature importance of Random Forest"
   ]
  },
  {
   "cell_type": "code",
   "execution_count": 69,
   "metadata": {},
   "outputs": [
    {
     "name": "stdout",
     "output_type": "stream",
     "text": [
      "feature : CRIM, importance : 0.032663861405546106\n",
      "feature : ZN, importance : 0.0015504009693512928\n",
      "feature : INDUS, importance : 0.005906765177580984\n",
      "feature : CHAS, importance : 0.0009472645961423127\n",
      "feature : NOX, importance : 0.017832018810158865\n",
      "feature : RM, importance : 0.5116715906775404\n",
      "feature : AGE, importance : 0.01643868615830965\n",
      "feature : DIS, importance : 0.05732566858396447\n",
      "feature : RAD, importance : 0.004484142740899054\n",
      "feature : TAX, importance : 0.017848842083284133\n",
      "feature : PTRATIO, importance : 0.01410515047804453\n",
      "feature : B, importance : 0.012996146493513551\n",
      "feature : LSTAT, importance : 0.3062294618256649\n"
     ]
    }
   ],
   "source": [
    "for feat, importance in zip(rfr.feature_names_in_, rfr.feature_importances_):\n",
    "    print(f'feature : {feat}, importance : {importance}')"
   ]
  },
  {
   "cell_type": "code",
   "execution_count": 70,
   "metadata": {},
   "outputs": [],
   "source": [
    "feature_array = rfr.feature_importances_\n",
    "indices = np.argsort(feature_array)"
   ]
  },
  {
   "cell_type": "code",
   "execution_count": 71,
   "metadata": {},
   "outputs": [
    {
     "data": {
      "image/png": "[encoded data removed]",
      "text/plain": [
       "<Figure size 432x288 with 1 Axes>"
      ]
     },
     "metadata": {
      "needs_background": "light"
     },
     "output_type": "display_data"
    }
   ],
   "source": [
    "fig, ax = plt.subplots()\n",
    "ax.barh(range(len(feature_array)), feature_array[indices])\n",
    "ax.set_yticks(range(len(feature_array)))\n",
    "_ = ax.set_yticklabels(np.array(x_train.columns)[indices])"
   ]
  }
 ],
 "metadata": {
  "kernelspec": {
   "display_name": "base",
   "language": "python",
   "name": "python3"
  },
  "language_info": {
   "codemirror_mode": {
    "name": "ipython",
    "version": 3
   },
   "file_extension": ".py",
   "mimetype": "text/x-python",
   "name": "python",
   "nbconvert_exporter": "python",
   "pygments_lexer": "ipython3",
   "version": "3.8.8"
  },
  "vscode": {
   "interpreter": {
    "hash": "e9261e4b8d81df69c83e35cc6f2e40b148a17ff965934ea230e7854a5f0ec50d"
   }
  }
 },
 "nbformat": 4,
 "nbformat_minor": 2
}
