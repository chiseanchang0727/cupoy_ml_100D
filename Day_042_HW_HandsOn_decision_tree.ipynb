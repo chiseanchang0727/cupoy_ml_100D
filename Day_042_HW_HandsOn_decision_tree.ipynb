{
 "cells": [
  {
   "cell_type": "markdown",
   "metadata": {},
   "source": [
    "## [作業重點]\n",
    "目前你應該已經要很清楚資料集中，資料的型態是什麼樣子囉！包含特徵 (features) 與標籤 (labels)。因此要記得未來不管什麼專案，必須要把資料清理成相同的格式，才能送進模型訓練。\n",
    "今天的作業開始踏入決策樹這個非常重要的模型，請務必確保你理解模型中每個超參數的意思，並試著調整看看，對最終預測結果的影響為何"
   ]
  },
  {
   "cell_type": "markdown",
   "metadata": {},
   "source": [
    "## 作業\n",
    "\n",
    "1. 試著調整 DecisionTreeClassifier(...) 中的參數，並觀察是否會改變結果？\n",
    "2. 改用其他資料集 (boston, wine)，並與回歸模型的結果進行比較"
   ]
  },
  {
   "cell_type": "code",
   "execution_count": 46,
   "metadata": {},
   "outputs": [],
   "source": [
    "import pandas as pd\n",
    "import numpy as np\n",
    "from sklearn import datasets\n",
    "from sklearn.model_selection import train_test_split\n",
    "from sklearn.tree import DecisionTreeRegressor\n",
    "from sklearn.linear_model import LinearRegression\n",
    "\n",
    "from sklearn. metrics import mean_squared_error\n"
   ]
  },
  {
   "attachments": {},
   "cell_type": "markdown",
   "metadata": {},
   "source": [
    "### 作業1\n",
    "\n",
    "Use dataset: boston"
   ]
  },
  {
   "cell_type": "code",
   "execution_count": 5,
   "metadata": {},
   "outputs": [],
   "source": [
    "# import data\n",
    "data_url = \"http://lib.stat.cmu.edu/datasets/boston\"\n",
    "raw_df = pd.read_csv(data_url, sep=\"\\s+\", skiprows=22, header=None)\n",
    "#features in df\n",
    "df = pd.DataFrame(np.hstack([raw_df.values[::2, :], raw_df.values[1::2, :2]]))\n",
    "target = pd.DataFrame(raw_df.values[1::2, 2])\n",
    "\n",
    "# set the column name\n",
    "df.columns = ['CRIM', 'ZN', 'INDUS', 'CHAS', 'NOX', 'RM', 'AGE', 'DIS', 'RAD',\n",
    "        'TAX', 'PTRATIO', 'B', 'LSTAT']\n",
    "\n",
    "target.columns = ['MEDV']\n"
   ]
  },
  {
   "cell_type": "code",
   "execution_count": 45,
   "metadata": {},
   "outputs": [
    {
     "name": "stdout",
     "output_type": "stream",
     "text": [
      "MSE of model_1: 33.36\n",
      "MSE of model_2: 28.65\n",
      "MSE of model_3: 17.27\n",
      "MSE of model_4: 16.14\n"
     ]
    }
   ],
   "source": [
    "#separate the data into training and testing data\n",
    "x_train, x_test, y_train, y_test = train_test_split(df, target, test_size = 0.2, random_state = 6)\n",
    "\n",
    "\n",
    "#build up 4 model to compare the performance under different hyperparameter\n",
    "model_1 = DecisionTreeRegressor(random_state=6)\n",
    "model_2 = DecisionTreeRegressor(max_depth=2, random_state=6)\n",
    "model_3 = DecisionTreeRegressor(min_samples_split=52, random_state=6)\n",
    "model_4 = DecisionTreeRegressor(min_samples_leaf=9, random_state=6)\n",
    "\n",
    "#train model\n",
    "model_1.fit(x_train, y_train)\n",
    "model_2.fit(x_train, y_train)\n",
    "model_3.fit(x_train, y_train)\n",
    "model_4.fit(x_train, y_train)\n",
    "\n",
    "#predict the result with testing data\n",
    "y_pred_1 = model_1.predict(x_test)\n",
    "y_pred_2 = model_2.predict(x_test)\n",
    "y_pred_3 = model_3.predict(x_test)\n",
    "y_pred_4 = model_4.predict(x_test)\n",
    "\n",
    "#compare the performance\n",
    "print('MSE of model_1: %.2f' % mean_squared_error(y_test, y_pred_1))\n",
    "print('MSE of model_2: %.2f' % mean_squared_error(y_test, y_pred_2))\n",
    "print('MSE of model_3: %.2f' % mean_squared_error(y_test, y_pred_3))\n",
    "print('MSE of model_4: %.2f' % mean_squared_error(y_test, y_pred_4))\n"
   ]
  },
  {
   "attachments": {},
   "cell_type": "markdown",
   "metadata": {},
   "source": [
    "### 作業2\n",
    "\n",
    "compare the result of decision tree with linear model"
   ]
  },
  {
   "cell_type": "code",
   "execution_count": 50,
   "metadata": {},
   "outputs": [
    {
     "name": "stdout",
     "output_type": "stream",
     "text": [
      "MSE of linear model: 27.22\n"
     ]
    }
   ],
   "source": [
    "#buil the model\n",
    "regression = LinearRegression()\n",
    "\n",
    "#train the model\n",
    "regression.fit(x_train, y_train)\n",
    "\n",
    "#predict the result\n",
    "y_pred_lr = regression.predict(x_test)\n",
    "\n",
    "#performance evaluation\n",
    "\n",
    "print('MSE of linear model: %.2f' % mean_squared_error(y_test, y_pred_lr))"
   ]
  },
  {
   "attachments": {},
   "cell_type": "markdown",
   "metadata": {},
   "source": [
    "As we can see, the prediction with Decision Tree is better than Linear Regression model"
   ]
  }
 ],
 "metadata": {
  "kernelspec": {
   "display_name": "base",
   "language": "python",
   "name": "python3"
  },
  "language_info": {
   "codemirror_mode": {
    "name": "ipython",
    "version": 3
   },
   "file_extension": ".py",
   "mimetype": "text/x-python",
   "name": "python",
   "nbconvert_exporter": "python",
   "pygments_lexer": "ipython3",
   "version": "3.8.8"
  },
  "vscode": {
   "interpreter": {
    "hash": "e9261e4b8d81df69c83e35cc6f2e40b148a17ff965934ea230e7854a5f0ec50d"
   }
  }
 },
 "nbformat": 4,
 "nbformat_minor": 2
}
