{
 "cells": [
  {
   "cell_type": "markdown",
   "metadata": {},
   "source": [
    "### 作業\n",
    "請使用不同的資料集，並使用 hyper-parameter search 的方式，看能不能找出最佳的超參數組合"
   ]
  },
  {
   "cell_type": "code",
   "execution_count": 2,
   "metadata": {},
   "outputs": [],
   "source": [
    "from sklearn import datasets, metrics\n",
    "from sklearn.model_selection import train_test_split, GridSearchCV\n",
    "from sklearn.ensemble import GradientBoostingClassifier"
   ]
  },
  {
   "cell_type": "code",
   "execution_count": 3,
   "metadata": {},
   "outputs": [],
   "source": [
    "# load data\n",
    "cancer = datasets.load_breast_cancer()"
   ]
  },
  {
   "cell_type": "code",
   "execution_count": 18,
   "metadata": {},
   "outputs": [
    {
     "name": "stdout",
     "output_type": "stream",
     "text": [
      "Accuracy : 0.965\n"
     ]
    }
   ],
   "source": [
    "# split the data\n",
    "x_train, x_test, y_train, y_test = train_test_split(cancer.data, cancer.target, test_size=0.3, random_state=66)\n",
    "\n",
    "# build the model\n",
    "clf = GradientBoostingClassifier(random_state=66)\n",
    "\n",
    "# train the model\n",
    "clf.fit(x_train, y_train)\n",
    "\n",
    "# predict the result\n",
    "y_pred = clf.predict(x_test)\n",
    "\n",
    "# measure the performance\n",
    "print('Accuracy : %.3f' % metrics.accuracy_score(y_test, y_pred))"
   ]
  },
  {
   "cell_type": "code",
   "execution_count": 22,
   "metadata": {},
   "outputs": [
    {
     "name": "stdout",
     "output_type": "stream",
     "text": [
      "Fitting 5 folds for each of 42 candidates, totalling 210 fits\n",
      "Best accuracy: 0.972 usisng {'max_depth': 1, 'n_estimators': 400}\n"
     ]
    }
   ],
   "source": [
    "# set the parameter set\n",
    "n_estimators = [50, 100, 200, 250, 300, 350, 400]\n",
    "max_depth = [1, 3, 5, 7, 9, 11]\n",
    "\n",
    "# create the dict \n",
    "param_grid = dict(n_estimators=n_estimators, max_depth=max_depth)\n",
    "\n",
    "grid_search = GridSearchCV(clf, param_grid, scoring='accuracy', n_jobs=-1, verbose=1)\n",
    "\n",
    "grid_result = grid_search.fit(x_train, y_train)\n",
    "\n",
    "print('Best accuracy: %.3f usisng %s' % (grid_result.best_score_, grid_result.best_params_))"
   ]
  },
  {
   "cell_type": "code",
   "execution_count": 21,
   "metadata": {},
   "outputs": [
    {
     "name": "stdout",
     "output_type": "stream",
     "text": [
      "0.9824561403508771\n"
     ]
    }
   ],
   "source": [
    "# tune the model\n",
    "clf_best_param = GradientBoostingClassifier(max_depth=grid_result.best_params_['max_depth'],\n",
    "                                            n_estimators=grid_result.best_params_['n_estimators'],\n",
    "                                            random_state = 66)\n",
    "\n",
    "\n",
    "# retrain the model\n",
    "clf_best_param.fit(x_train, y_train)\n",
    "\n",
    "# predict\n",
    "y_pred = clf_best_param.predict(x_test)\n",
    "print(metrics.accuracy_score(y_test, y_pred))"
   ]
  }
 ],
 "metadata": {
  "kernelspec": {
   "display_name": "Python 3.9.7 ('base')",
   "language": "python",
   "name": "python3"
  },
  "language_info": {
   "codemirror_mode": {
    "name": "ipython",
    "version": 3
   },
   "file_extension": ".py",
   "mimetype": "text/x-python",
   "name": "python",
   "nbconvert_exporter": "python",
   "pygments_lexer": "ipython3",
   "version": "3.9.7"
  },
  "vscode": {
   "interpreter": {
    "hash": "49cb93f377a7abe7414b7b0f21fb3017538004a126cf690fb524202736b7fb92"
   }
  }
 },
 "nbformat": 4,
 "nbformat_minor": 4
}
